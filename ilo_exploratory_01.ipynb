{
 "cells": [
  {
   "cell_type": "code",
   "execution_count": 1,
   "id": "698f2871",
   "metadata": {},
   "outputs": [],
   "source": [
    "import numpy as np \n",
    "import matplotlib.pyplot as plt \n",
    "import pandas as pd \n",
    "import seaborn as sns "
   ]
  },
  {
   "cell_type": "code",
   "execution_count": 7,
   "id": "fc3edbc1",
   "metadata": {},
   "outputs": [
    {
     "data": {
      "text/html": [
       "<div>\n",
       "<style scoped>\n",
       "    .dataframe tbody tr th:only-of-type {\n",
       "        vertical-align: middle;\n",
       "    }\n",
       "\n",
       "    .dataframe tbody tr th {\n",
       "        vertical-align: top;\n",
       "    }\n",
       "\n",
       "    .dataframe thead th {\n",
       "        text-align: right;\n",
       "    }\n",
       "</style>\n",
       "<table border=\"1\" class=\"dataframe\">\n",
       "  <thead>\n",
       "    <tr style=\"text-align: right;\">\n",
       "      <th></th>\n",
       "      <th>Unnamed: 0</th>\n",
       "      <th>country</th>\n",
       "      <th>sex</th>\n",
       "      <th>occupation</th>\n",
       "      <th>year</th>\n",
       "      <th>monthly_earnings_usd</th>\n",
       "      <th>group</th>\n",
       "    </tr>\n",
       "  </thead>\n",
       "  <tbody>\n",
       "    <tr>\n",
       "      <th>0</th>\n",
       "      <td>0</td>\n",
       "      <td>Afghanistan</td>\n",
       "      <td>Male</td>\n",
       "      <td>Total</td>\n",
       "      <td>2014</td>\n",
       "      <td>159.57</td>\n",
       "      <td>T</td>\n",
       "    </tr>\n",
       "    <tr>\n",
       "      <th>1</th>\n",
       "      <td>1</td>\n",
       "      <td>Afghanistan</td>\n",
       "      <td>Male</td>\n",
       "      <td>1. Managers</td>\n",
       "      <td>2014</td>\n",
       "      <td>305.60</td>\n",
       "      <td>1</td>\n",
       "    </tr>\n",
       "    <tr>\n",
       "      <th>2</th>\n",
       "      <td>2</td>\n",
       "      <td>Afghanistan</td>\n",
       "      <td>Male</td>\n",
       "      <td>2. Professionals</td>\n",
       "      <td>2014</td>\n",
       "      <td>197.08</td>\n",
       "      <td>2</td>\n",
       "    </tr>\n",
       "    <tr>\n",
       "      <th>3</th>\n",
       "      <td>3</td>\n",
       "      <td>Afghanistan</td>\n",
       "      <td>Male</td>\n",
       "      <td>3. Technicians and associate professionals</td>\n",
       "      <td>2014</td>\n",
       "      <td>229.72</td>\n",
       "      <td>3</td>\n",
       "    </tr>\n",
       "    <tr>\n",
       "      <th>4</th>\n",
       "      <td>4</td>\n",
       "      <td>Afghanistan</td>\n",
       "      <td>Male</td>\n",
       "      <td>4. Clerical support workers</td>\n",
       "      <td>2014</td>\n",
       "      <td>271.34</td>\n",
       "      <td>4</td>\n",
       "    </tr>\n",
       "  </tbody>\n",
       "</table>\n",
       "</div>"
      ],
      "text/plain": [
       "   Unnamed: 0      country   sex                                  occupation  \\\n",
       "0           0  Afghanistan  Male                                       Total   \n",
       "1           1  Afghanistan  Male                                 1. Managers   \n",
       "2           2  Afghanistan  Male                            2. Professionals   \n",
       "3           3  Afghanistan  Male  3. Technicians and associate professionals   \n",
       "4           4  Afghanistan  Male                 4. Clerical support workers   \n",
       "\n",
       "   year  monthly_earnings_usd group  \n",
       "0  2014                159.57     T  \n",
       "1  2014                305.60     1  \n",
       "2  2014                197.08     2  \n",
       "3  2014                229.72     3  \n",
       "4  2014                271.34     4  "
      ]
     },
     "execution_count": 7,
     "metadata": {},
     "output_type": "execute_result"
    }
   ],
   "source": [
    "data = pd.read_csv('ilo_usd_male_female_2011_2021.csv')\n",
    "data.head()"
   ]
  },
  {
   "cell_type": "code",
   "execution_count": 11,
   "id": "474c81d2",
   "metadata": {},
   "outputs": [
    {
     "data": {
      "text/plain": [
       "(14945, 7)"
      ]
     },
     "execution_count": 11,
     "metadata": {},
     "output_type": "execute_result"
    }
   ],
   "source": [
    "data.shape"
   ]
  },
  {
   "cell_type": "code",
   "execution_count": 12,
   "id": "be4c1fc8",
   "metadata": {},
   "outputs": [
    {
     "data": {
      "text/html": [
       "<div>\n",
       "<style scoped>\n",
       "    .dataframe tbody tr th:only-of-type {\n",
       "        vertical-align: middle;\n",
       "    }\n",
       "\n",
       "    .dataframe tbody tr th {\n",
       "        vertical-align: top;\n",
       "    }\n",
       "\n",
       "    .dataframe thead th {\n",
       "        text-align: right;\n",
       "    }\n",
       "</style>\n",
       "<table border=\"1\" class=\"dataframe\">\n",
       "  <thead>\n",
       "    <tr style=\"text-align: right;\">\n",
       "      <th></th>\n",
       "      <th>country</th>\n",
       "      <th>sex</th>\n",
       "      <th>occupation</th>\n",
       "      <th>year</th>\n",
       "      <th>monthly_earnings_usd</th>\n",
       "    </tr>\n",
       "  </thead>\n",
       "  <tbody>\n",
       "    <tr>\n",
       "      <th>0</th>\n",
       "      <td>Afghanistan</td>\n",
       "      <td>Male</td>\n",
       "      <td>Total</td>\n",
       "      <td>2014</td>\n",
       "      <td>159.57</td>\n",
       "    </tr>\n",
       "    <tr>\n",
       "      <th>1</th>\n",
       "      <td>Afghanistan</td>\n",
       "      <td>Male</td>\n",
       "      <td>1. Managers</td>\n",
       "      <td>2014</td>\n",
       "      <td>305.60</td>\n",
       "    </tr>\n",
       "    <tr>\n",
       "      <th>2</th>\n",
       "      <td>Afghanistan</td>\n",
       "      <td>Male</td>\n",
       "      <td>2. Professionals</td>\n",
       "      <td>2014</td>\n",
       "      <td>197.08</td>\n",
       "    </tr>\n",
       "    <tr>\n",
       "      <th>3</th>\n",
       "      <td>Afghanistan</td>\n",
       "      <td>Male</td>\n",
       "      <td>3. Technicians and associate professionals</td>\n",
       "      <td>2014</td>\n",
       "      <td>229.72</td>\n",
       "    </tr>\n",
       "    <tr>\n",
       "      <th>4</th>\n",
       "      <td>Afghanistan</td>\n",
       "      <td>Male</td>\n",
       "      <td>4. Clerical support workers</td>\n",
       "      <td>2014</td>\n",
       "      <td>271.34</td>\n",
       "    </tr>\n",
       "  </tbody>\n",
       "</table>\n",
       "</div>"
      ],
      "text/plain": [
       "       country   sex                                  occupation  year  \\\n",
       "0  Afghanistan  Male                                       Total  2014   \n",
       "1  Afghanistan  Male                                 1. Managers  2014   \n",
       "2  Afghanistan  Male                            2. Professionals  2014   \n",
       "3  Afghanistan  Male  3. Technicians and associate professionals  2014   \n",
       "4  Afghanistan  Male                 4. Clerical support workers  2014   \n",
       "\n",
       "   monthly_earnings_usd  \n",
       "0                159.57  \n",
       "1                305.60  \n",
       "2                197.08  \n",
       "3                229.72  \n",
       "4                271.34  "
      ]
     },
     "execution_count": 12,
     "metadata": {},
     "output_type": "execute_result"
    }
   ],
   "source": [
    "data = data.drop(['Unnamed: 0', 'group'], axis=1)\n",
    "data.head()"
   ]
  },
  {
   "cell_type": "code",
   "execution_count": 13,
   "id": "9d04ea96",
   "metadata": {},
   "outputs": [
    {
     "data": {
      "text/plain": [
       "(14945, 5)"
      ]
     },
     "execution_count": 13,
     "metadata": {},
     "output_type": "execute_result"
    }
   ],
   "source": [
    "data.shape"
   ]
  },
  {
   "cell_type": "code",
   "execution_count": 15,
   "id": "ded9d907",
   "metadata": {},
   "outputs": [
    {
     "data": {
      "text/plain": [
       "year\n",
       "2011    53\n",
       "2012    63\n",
       "2013    64\n",
       "2014    71\n",
       "2015    72\n",
       "2016    75\n",
       "2017    79\n",
       "2018    80\n",
       "2019    83\n",
       "2020    67\n",
       "2021    23\n",
       "Name: country, dtype: int64"
      ]
     },
     "execution_count": 15,
     "metadata": {},
     "output_type": "execute_result"
    }
   ],
   "source": [
    "data.groupby('year')['country'].nunique()"
   ]
  },
  {
   "cell_type": "code",
   "execution_count": 16,
   "id": "2e40bbce",
   "metadata": {},
   "outputs": [
    {
     "data": {
      "text/html": [
       "<div>\n",
       "<style scoped>\n",
       "    .dataframe tbody tr th:only-of-type {\n",
       "        vertical-align: middle;\n",
       "    }\n",
       "\n",
       "    .dataframe tbody tr th {\n",
       "        vertical-align: top;\n",
       "    }\n",
       "\n",
       "    .dataframe thead th {\n",
       "        text-align: right;\n",
       "    }\n",
       "</style>\n",
       "<table border=\"1\" class=\"dataframe\">\n",
       "  <thead>\n",
       "    <tr style=\"text-align: right;\">\n",
       "      <th></th>\n",
       "      <th>country</th>\n",
       "      <th>sex</th>\n",
       "      <th>occupation</th>\n",
       "      <th>year</th>\n",
       "      <th>monthly_earnings_usd</th>\n",
       "    </tr>\n",
       "  </thead>\n",
       "  <tbody>\n",
       "    <tr>\n",
       "      <th>159</th>\n",
       "      <td>Albania</td>\n",
       "      <td>Male</td>\n",
       "      <td>Total</td>\n",
       "      <td>2019</td>\n",
       "      <td>500.13</td>\n",
       "    </tr>\n",
       "    <tr>\n",
       "      <th>160</th>\n",
       "      <td>Albania</td>\n",
       "      <td>Male</td>\n",
       "      <td>1. Managers</td>\n",
       "      <td>2019</td>\n",
       "      <td>882.42</td>\n",
       "    </tr>\n",
       "    <tr>\n",
       "      <th>161</th>\n",
       "      <td>Albania</td>\n",
       "      <td>Male</td>\n",
       "      <td>2. Professionals</td>\n",
       "      <td>2019</td>\n",
       "      <td>742.16</td>\n",
       "    </tr>\n",
       "    <tr>\n",
       "      <th>162</th>\n",
       "      <td>Albania</td>\n",
       "      <td>Male</td>\n",
       "      <td>3. Technicians and associate professionals</td>\n",
       "      <td>2019</td>\n",
       "      <td>588.29</td>\n",
       "    </tr>\n",
       "    <tr>\n",
       "      <th>163</th>\n",
       "      <td>Albania</td>\n",
       "      <td>Male</td>\n",
       "      <td>4. Clerical support workers</td>\n",
       "      <td>2019</td>\n",
       "      <td>525.30</td>\n",
       "    </tr>\n",
       "  </tbody>\n",
       "</table>\n",
       "</div>"
      ],
      "text/plain": [
       "     country   sex                                  occupation  year  \\\n",
       "159  Albania  Male                                       Total  2019   \n",
       "160  Albania  Male                                 1. Managers  2019   \n",
       "161  Albania  Male                            2. Professionals  2019   \n",
       "162  Albania  Male  3. Technicians and associate professionals  2019   \n",
       "163  Albania  Male                 4. Clerical support workers  2019   \n",
       "\n",
       "     monthly_earnings_usd  \n",
       "159                500.13  \n",
       "160                882.42  \n",
       "161                742.16  \n",
       "162                588.29  \n",
       "163                525.30  "
      ]
     },
     "execution_count": 16,
     "metadata": {},
     "output_type": "execute_result"
    }
   ],
   "source": [
    "# get data from 2019, which is the last full year that wasn't affected by COVID too badly \n",
    "# caveat: COVID did start sometime in Q4 of 2019, but severe lockdowns hadn't started yet \n",
    "\n",
    "data_2019 = data[data['year']==2019]\n",
    "data_2019.head()"
   ]
  },
  {
   "cell_type": "code",
   "execution_count": 17,
   "id": "d0e8f476",
   "metadata": {},
   "outputs": [
    {
     "data": {
      "text/plain": [
       "(1704, 5)"
      ]
     },
     "execution_count": 17,
     "metadata": {},
     "output_type": "execute_result"
    }
   ],
   "source": [
    "data_2019.shape"
   ]
  },
  {
   "cell_type": "code",
   "execution_count": 18,
   "id": "14604d50",
   "metadata": {},
   "outputs": [
    {
     "data": {
      "text/plain": [
       "83"
      ]
     },
     "execution_count": 18,
     "metadata": {},
     "output_type": "execute_result"
    }
   ],
   "source": [
    "data_2019['country'].nunique()"
   ]
  },
  {
   "cell_type": "code",
   "execution_count": 19,
   "id": "41d3e751",
   "metadata": {},
   "outputs": [
    {
     "data": {
      "text/html": [
       "<div>\n",
       "<style scoped>\n",
       "    .dataframe tbody tr th:only-of-type {\n",
       "        vertical-align: middle;\n",
       "    }\n",
       "\n",
       "    .dataframe tbody tr th {\n",
       "        vertical-align: top;\n",
       "    }\n",
       "\n",
       "    .dataframe thead th {\n",
       "        text-align: right;\n",
       "    }\n",
       "</style>\n",
       "<table border=\"1\" class=\"dataframe\">\n",
       "  <thead>\n",
       "    <tr style=\"text-align: right;\">\n",
       "      <th>sex</th>\n",
       "      <th>country</th>\n",
       "      <th>occupation</th>\n",
       "      <th>Female</th>\n",
       "      <th>Male</th>\n",
       "    </tr>\n",
       "  </thead>\n",
       "  <tbody>\n",
       "    <tr>\n",
       "      <th>0</th>\n",
       "      <td>Albania</td>\n",
       "      <td>0. Armed forces occupations</td>\n",
       "      <td>555.45</td>\n",
       "      <td>572.86</td>\n",
       "    </tr>\n",
       "    <tr>\n",
       "      <th>1</th>\n",
       "      <td>Albania</td>\n",
       "      <td>1. Managers</td>\n",
       "      <td>895.38</td>\n",
       "      <td>882.42</td>\n",
       "    </tr>\n",
       "    <tr>\n",
       "      <th>2</th>\n",
       "      <td>Albania</td>\n",
       "      <td>2. Professionals</td>\n",
       "      <td>588.09</td>\n",
       "      <td>742.16</td>\n",
       "    </tr>\n",
       "    <tr>\n",
       "      <th>3</th>\n",
       "      <td>Albania</td>\n",
       "      <td>3. Technicians and associate professionals</td>\n",
       "      <td>487.87</td>\n",
       "      <td>588.29</td>\n",
       "    </tr>\n",
       "    <tr>\n",
       "      <th>4</th>\n",
       "      <td>Albania</td>\n",
       "      <td>4. Clerical support workers</td>\n",
       "      <td>498.06</td>\n",
       "      <td>525.30</td>\n",
       "    </tr>\n",
       "  </tbody>\n",
       "</table>\n",
       "</div>"
      ],
      "text/plain": [
       "sex  country                                  occupation  Female    Male\n",
       "0    Albania                 0. Armed forces occupations  555.45  572.86\n",
       "1    Albania                                 1. Managers  895.38  882.42\n",
       "2    Albania                            2. Professionals  588.09  742.16\n",
       "3    Albania  3. Technicians and associate professionals  487.87  588.29\n",
       "4    Albania                 4. Clerical support workers  498.06  525.30"
      ]
     },
     "execution_count": 19,
     "metadata": {},
     "output_type": "execute_result"
    }
   ],
   "source": [
    "data_2019_pivot = data_2019.pivot(index=['country','occupation'], \n",
    "                                  columns=['sex'], \n",
    "                                  values='monthly_earnings_usd').reset_index()\n",
    "data_2019_pivot.head()"
   ]
  },
  {
   "cell_type": "code",
   "execution_count": 26,
   "id": "8e219b27",
   "metadata": {},
   "outputs": [
    {
     "data": {
      "text/plain": [
       "(876, 5)"
      ]
     },
     "execution_count": 26,
     "metadata": {},
     "output_type": "execute_result"
    }
   ],
   "source": [
    "# gut check: df shape \n",
    "data_2019_pivot.shape"
   ]
  },
  {
   "cell_type": "code",
   "execution_count": 27,
   "id": "567e3998",
   "metadata": {},
   "outputs": [
    {
     "data": {
      "text/plain": [
       "sex\n",
       "country          0\n",
       "occupation       0\n",
       "Female          47\n",
       "Male             1\n",
       "income_ratio    49\n",
       "dtype: int64"
      ]
     },
     "execution_count": 27,
     "metadata": {},
     "output_type": "execute_result"
    }
   ],
   "source": [
    "# gut check: are there any NaNs? \n",
    "data_2019_pivot.isna().sum()"
   ]
  },
  {
   "cell_type": "code",
   "execution_count": 29,
   "id": "92079b6c",
   "metadata": {},
   "outputs": [
    {
     "data": {
      "text/html": [
       "<div>\n",
       "<style scoped>\n",
       "    .dataframe tbody tr th:only-of-type {\n",
       "        vertical-align: middle;\n",
       "    }\n",
       "\n",
       "    .dataframe tbody tr th {\n",
       "        vertical-align: top;\n",
       "    }\n",
       "\n",
       "    .dataframe thead th {\n",
       "        text-align: right;\n",
       "    }\n",
       "</style>\n",
       "<table border=\"1\" class=\"dataframe\">\n",
       "  <thead>\n",
       "    <tr style=\"text-align: right;\">\n",
       "      <th>sex</th>\n",
       "      <th>country</th>\n",
       "      <th>occupation</th>\n",
       "      <th>Female</th>\n",
       "      <th>Male</th>\n",
       "      <th>income_ratio</th>\n",
       "    </tr>\n",
       "  </thead>\n",
       "  <tbody>\n",
       "    <tr>\n",
       "      <th>11</th>\n",
       "      <td>Albania</td>\n",
       "      <td>X. Not elsewhere classified</td>\n",
       "      <td>0.0</td>\n",
       "      <td>0.00</td>\n",
       "      <td>NaN</td>\n",
       "    </tr>\n",
       "    <tr>\n",
       "      <th>33</th>\n",
       "      <td>Austria</td>\n",
       "      <td>0. Armed forces occupations</td>\n",
       "      <td>NaN</td>\n",
       "      <td>5034.28</td>\n",
       "      <td>NaN</td>\n",
       "    </tr>\n",
       "    <tr>\n",
       "      <th>45</th>\n",
       "      <td>Belgium</td>\n",
       "      <td>0. Armed forces occupations</td>\n",
       "      <td>NaN</td>\n",
       "      <td>6199.42</td>\n",
       "      <td>NaN</td>\n",
       "    </tr>\n",
       "    <tr>\n",
       "      <th>51</th>\n",
       "      <td>Belgium</td>\n",
       "      <td>6. Skilled agricultural, forestry and fishery ...</td>\n",
       "      <td>NaN</td>\n",
       "      <td>4164.83</td>\n",
       "      <td>NaN</td>\n",
       "    </tr>\n",
       "    <tr>\n",
       "      <th>56</th>\n",
       "      <td>Belize</td>\n",
       "      <td>0. Armed forces occupations</td>\n",
       "      <td>NaN</td>\n",
       "      <td>769.37</td>\n",
       "      <td>NaN</td>\n",
       "    </tr>\n",
       "  </tbody>\n",
       "</table>\n",
       "</div>"
      ],
      "text/plain": [
       "sex  country                                         occupation  Female  \\\n",
       "11   Albania                        X. Not elsewhere classified     0.0   \n",
       "33   Austria                        0. Armed forces occupations     NaN   \n",
       "45   Belgium                        0. Armed forces occupations     NaN   \n",
       "51   Belgium  6. Skilled agricultural, forestry and fishery ...     NaN   \n",
       "56    Belize                        0. Armed forces occupations     NaN   \n",
       "\n",
       "sex     Male  income_ratio  \n",
       "11      0.00           NaN  \n",
       "33   5034.28           NaN  \n",
       "45   6199.42           NaN  \n",
       "51   4164.83           NaN  \n",
       "56    769.37           NaN  "
      ]
     },
     "execution_count": 29,
     "metadata": {},
     "output_type": "execute_result"
    }
   ],
   "source": [
    "# closer look at some of the rows with NAs \n",
    "data_2019_nans = data_2019_pivot[data_2019_pivot.isna().any(axis=1)]\n",
    "data_2019_nans.head()"
   ]
  },
  {
   "cell_type": "code",
   "execution_count": 30,
   "id": "7aadbb1b",
   "metadata": {},
   "outputs": [
    {
     "data": {
      "text/plain": [
       "array(['X. Not elsewhere classified', '0. Armed forces occupations',\n",
       "       '6. Skilled agricultural, forestry and fishery workers',\n",
       "       '8. Plant and machine operators, and assemblers', '1. Managers'],\n",
       "      dtype=object)"
      ]
     },
     "execution_count": 30,
     "metadata": {},
     "output_type": "execute_result"
    }
   ],
   "source": [
    "data_2019_nans['occupation'].unique()"
   ]
  },
  {
   "cell_type": "code",
   "execution_count": 31,
   "id": "92bb92e7",
   "metadata": {},
   "outputs": [
    {
     "data": {
      "text/plain": [
       "(49, 5)"
      ]
     },
     "execution_count": 31,
     "metadata": {},
     "output_type": "execute_result"
    }
   ],
   "source": [
    "data_2019_nans.shape"
   ]
  },
  {
   "cell_type": "code",
   "execution_count": 32,
   "id": "ff2d1f75",
   "metadata": {},
   "outputs": [
    {
     "data": {
      "text/plain": [
       "array(['Albania', 'Austria', 'Belgium', 'Belize', 'Bhutan', 'Bolivia',\n",
       "       'Bulgaria', 'Costa Rica', 'Cyprus', \"Côte d'Ivoire\", 'Denmark',\n",
       "       'Dominican Republic', 'El Salvador', 'Estonia', 'Guatemala',\n",
       "       'Guinea', 'Honduras', 'Hungary', 'Ireland', 'Jordan', 'Lesotho',\n",
       "       'Lithuania', 'Luxembourg', 'Maldives', 'Marshall Islands',\n",
       "       'Myanmar', 'Netherlands', 'Pakistan', 'Panama', 'Paraguay',\n",
       "       'Poland', 'Senegal', 'Spain', 'Switzerland', 'Viet Nam', 'Zambia'],\n",
       "      dtype=object)"
      ]
     },
     "execution_count": 32,
     "metadata": {},
     "output_type": "execute_result"
    }
   ],
   "source": [
    "data_2019_nans['country'].unique()"
   ]
  },
  {
   "cell_type": "code",
   "execution_count": 33,
   "id": "fee95e6d",
   "metadata": {},
   "outputs": [
    {
     "data": {
      "text/html": [
       "<div>\n",
       "<style scoped>\n",
       "    .dataframe tbody tr th:only-of-type {\n",
       "        vertical-align: middle;\n",
       "    }\n",
       "\n",
       "    .dataframe tbody tr th {\n",
       "        vertical-align: top;\n",
       "    }\n",
       "\n",
       "    .dataframe thead th {\n",
       "        text-align: right;\n",
       "    }\n",
       "</style>\n",
       "<table border=\"1\" class=\"dataframe\">\n",
       "  <thead>\n",
       "    <tr style=\"text-align: right;\">\n",
       "      <th>sex</th>\n",
       "      <th>country</th>\n",
       "      <th>occupation</th>\n",
       "      <th>Female</th>\n",
       "      <th>Male</th>\n",
       "      <th>income_ratio</th>\n",
       "    </tr>\n",
       "  </thead>\n",
       "  <tbody>\n",
       "    <tr>\n",
       "      <th>790</th>\n",
       "      <td>Switzerland</td>\n",
       "      <td>0. Armed forces occupations</td>\n",
       "      <td>NaN</td>\n",
       "      <td>9381.02</td>\n",
       "      <td>NaN</td>\n",
       "    </tr>\n",
       "  </tbody>\n",
       "</table>\n",
       "</div>"
      ],
      "text/plain": [
       "sex      country                   occupation  Female     Male  income_ratio\n",
       "790  Switzerland  0. Armed forces occupations     NaN  9381.02           NaN"
      ]
     },
     "execution_count": 33,
     "metadata": {},
     "output_type": "execute_result"
    }
   ],
   "source": [
    "swi = data_2019_nans[data_2019_nans['country']=='Switzerland']\n",
    "swi"
   ]
  },
  {
   "cell_type": "code",
   "execution_count": 35,
   "id": "f495b7b7",
   "metadata": {},
   "outputs": [
    {
     "data": {
      "text/html": [
       "<div>\n",
       "<style scoped>\n",
       "    .dataframe tbody tr th:only-of-type {\n",
       "        vertical-align: middle;\n",
       "    }\n",
       "\n",
       "    .dataframe tbody tr th {\n",
       "        vertical-align: top;\n",
       "    }\n",
       "\n",
       "    .dataframe thead th {\n",
       "        text-align: right;\n",
       "    }\n",
       "</style>\n",
       "<table border=\"1\" class=\"dataframe\">\n",
       "  <thead>\n",
       "    <tr style=\"text-align: right;\">\n",
       "      <th></th>\n",
       "      <th>occupation</th>\n",
       "      <th>country</th>\n",
       "    </tr>\n",
       "  </thead>\n",
       "  <tbody>\n",
       "    <tr>\n",
       "      <th>0</th>\n",
       "      <td>0. Armed forces occupations</td>\n",
       "      <td>23</td>\n",
       "    </tr>\n",
       "    <tr>\n",
       "      <th>1</th>\n",
       "      <td>1. Managers</td>\n",
       "      <td>2</td>\n",
       "    </tr>\n",
       "    <tr>\n",
       "      <th>2</th>\n",
       "      <td>6. Skilled agricultural, forestry and fishery ...</td>\n",
       "      <td>10</td>\n",
       "    </tr>\n",
       "    <tr>\n",
       "      <th>3</th>\n",
       "      <td>8. Plant and machine operators, and assemblers</td>\n",
       "      <td>5</td>\n",
       "    </tr>\n",
       "    <tr>\n",
       "      <th>4</th>\n",
       "      <td>X. Not elsewhere classified</td>\n",
       "      <td>9</td>\n",
       "    </tr>\n",
       "  </tbody>\n",
       "</table>\n",
       "</div>"
      ],
      "text/plain": [
       "                                          occupation  country\n",
       "0                        0. Armed forces occupations       23\n",
       "1                                        1. Managers        2\n",
       "2  6. Skilled agricultural, forestry and fishery ...       10\n",
       "3     8. Plant and machine operators, and assemblers        5\n",
       "4                        X. Not elsewhere classified        9"
      ]
     },
     "execution_count": 35,
     "metadata": {},
     "output_type": "execute_result"
    }
   ],
   "source": [
    "nans_occs = data_2019_nans.groupby('occupation')['country'].count().reset_index()\n",
    "nans_occs"
   ]
  },
  {
   "cell_type": "code",
   "execution_count": 36,
   "id": "3f8a2363",
   "metadata": {},
   "outputs": [
    {
     "data": {
      "text/html": [
       "<div>\n",
       "<style scoped>\n",
       "    .dataframe tbody tr th:only-of-type {\n",
       "        vertical-align: middle;\n",
       "    }\n",
       "\n",
       "    .dataframe tbody tr th {\n",
       "        vertical-align: top;\n",
       "    }\n",
       "\n",
       "    .dataframe thead th {\n",
       "        text-align: right;\n",
       "    }\n",
       "</style>\n",
       "<table border=\"1\" class=\"dataframe\">\n",
       "  <thead>\n",
       "    <tr style=\"text-align: right;\">\n",
       "      <th>sex</th>\n",
       "      <th>country</th>\n",
       "      <th>occupation</th>\n",
       "      <th>Female</th>\n",
       "      <th>Male</th>\n",
       "      <th>income_ratio</th>\n",
       "    </tr>\n",
       "  </thead>\n",
       "  <tbody>\n",
       "    <tr>\n",
       "      <th>317</th>\n",
       "      <td>Guinea</td>\n",
       "      <td>1. Managers</td>\n",
       "      <td>NaN</td>\n",
       "      <td>283.50</td>\n",
       "      <td>NaN</td>\n",
       "    </tr>\n",
       "    <tr>\n",
       "      <th>691</th>\n",
       "      <td>Senegal</td>\n",
       "      <td>1. Managers</td>\n",
       "      <td>NaN</td>\n",
       "      <td>502.43</td>\n",
       "      <td>NaN</td>\n",
       "    </tr>\n",
       "  </tbody>\n",
       "</table>\n",
       "</div>"
      ],
      "text/plain": [
       "sex  country   occupation  Female    Male  income_ratio\n",
       "317   Guinea  1. Managers     NaN  283.50           NaN\n",
       "691  Senegal  1. Managers     NaN  502.43           NaN"
      ]
     },
     "execution_count": 36,
     "metadata": {},
     "output_type": "execute_result"
    }
   ],
   "source": [
    "# which 2 countries have NaN in the \"Managers\" group? \n",
    "nans_1 = data_2019_nans[data_2019_nans['occupation']=='1. Managers']\n",
    "nans_1"
   ]
  },
  {
   "cell_type": "code",
   "execution_count": 22,
   "id": "f5a48d36",
   "metadata": {},
   "outputs": [
    {
     "data": {
      "text/html": [
       "<div>\n",
       "<style scoped>\n",
       "    .dataframe tbody tr th:only-of-type {\n",
       "        vertical-align: middle;\n",
       "    }\n",
       "\n",
       "    .dataframe tbody tr th {\n",
       "        vertical-align: top;\n",
       "    }\n",
       "\n",
       "    .dataframe thead th {\n",
       "        text-align: right;\n",
       "    }\n",
       "</style>\n",
       "<table border=\"1\" class=\"dataframe\">\n",
       "  <thead>\n",
       "    <tr style=\"text-align: right;\">\n",
       "      <th>sex</th>\n",
       "      <th>country</th>\n",
       "      <th>occupation</th>\n",
       "      <th>Female</th>\n",
       "      <th>Male</th>\n",
       "      <th>income_ratio</th>\n",
       "    </tr>\n",
       "  </thead>\n",
       "  <tbody>\n",
       "    <tr>\n",
       "      <th>0</th>\n",
       "      <td>Albania</td>\n",
       "      <td>0. Armed forces occupations</td>\n",
       "      <td>555.45</td>\n",
       "      <td>572.86</td>\n",
       "      <td>0.969609</td>\n",
       "    </tr>\n",
       "    <tr>\n",
       "      <th>1</th>\n",
       "      <td>Albania</td>\n",
       "      <td>1. Managers</td>\n",
       "      <td>895.38</td>\n",
       "      <td>882.42</td>\n",
       "      <td>1.014687</td>\n",
       "    </tr>\n",
       "    <tr>\n",
       "      <th>2</th>\n",
       "      <td>Albania</td>\n",
       "      <td>2. Professionals</td>\n",
       "      <td>588.09</td>\n",
       "      <td>742.16</td>\n",
       "      <td>0.792403</td>\n",
       "    </tr>\n",
       "    <tr>\n",
       "      <th>3</th>\n",
       "      <td>Albania</td>\n",
       "      <td>3. Technicians and associate professionals</td>\n",
       "      <td>487.87</td>\n",
       "      <td>588.29</td>\n",
       "      <td>0.829302</td>\n",
       "    </tr>\n",
       "    <tr>\n",
       "      <th>4</th>\n",
       "      <td>Albania</td>\n",
       "      <td>4. Clerical support workers</td>\n",
       "      <td>498.06</td>\n",
       "      <td>525.30</td>\n",
       "      <td>0.948144</td>\n",
       "    </tr>\n",
       "  </tbody>\n",
       "</table>\n",
       "</div>"
      ],
      "text/plain": [
       "sex  country                                  occupation  Female    Male  \\\n",
       "0    Albania                 0. Armed forces occupations  555.45  572.86   \n",
       "1    Albania                                 1. Managers  895.38  882.42   \n",
       "2    Albania                            2. Professionals  588.09  742.16   \n",
       "3    Albania  3. Technicians and associate professionals  487.87  588.29   \n",
       "4    Albania                 4. Clerical support workers  498.06  525.30   \n",
       "\n",
       "sex  income_ratio  \n",
       "0        0.969609  \n",
       "1        1.014687  \n",
       "2        0.792403  \n",
       "3        0.829302  \n",
       "4        0.948144  "
      ]
     },
     "execution_count": 22,
     "metadata": {},
     "output_type": "execute_result"
    }
   ],
   "source": [
    "data_2019_pivot['income_ratio'] = data_2019_pivot['Female'] / data_2019_pivot['Male']\n",
    "data_2019_pivot.head()"
   ]
  },
  {
   "cell_type": "code",
   "execution_count": 21,
   "id": "caa5c07b",
   "metadata": {},
   "outputs": [
    {
     "data": {
      "text/plain": [
       "count    827.000000\n",
       "mean       0.811224\n",
       "std        0.182435\n",
       "min        0.224009\n",
       "25%        0.713030\n",
       "50%        0.803474\n",
       "75%        0.880327\n",
       "max        2.875000\n",
       "Name: income_ratio, dtype: float64"
      ]
     },
     "execution_count": 21,
     "metadata": {},
     "output_type": "execute_result"
    }
   ],
   "source": [
    "data_2019_pivot['income_ratio'].describe()"
   ]
  },
  {
   "cell_type": "code",
   "execution_count": 37,
   "id": "3052332c",
   "metadata": {},
   "outputs": [
    {
     "data": {
      "text/html": [
       "<div>\n",
       "<style scoped>\n",
       "    .dataframe tbody tr th:only-of-type {\n",
       "        vertical-align: middle;\n",
       "    }\n",
       "\n",
       "    .dataframe tbody tr th {\n",
       "        vertical-align: top;\n",
       "    }\n",
       "\n",
       "    .dataframe thead th {\n",
       "        text-align: right;\n",
       "    }\n",
       "</style>\n",
       "<table border=\"1\" class=\"dataframe\">\n",
       "  <thead>\n",
       "    <tr style=\"text-align: right;\">\n",
       "      <th>sex</th>\n",
       "      <th>country</th>\n",
       "      <th>occupation</th>\n",
       "      <th>Female</th>\n",
       "      <th>Male</th>\n",
       "      <th>income_ratio</th>\n",
       "    </tr>\n",
       "  </thead>\n",
       "  <tbody>\n",
       "    <tr>\n",
       "      <th>0</th>\n",
       "      <td>Albania</td>\n",
       "      <td>0. Armed forces occupations</td>\n",
       "      <td>555.45</td>\n",
       "      <td>572.86</td>\n",
       "      <td>0.969609</td>\n",
       "    </tr>\n",
       "    <tr>\n",
       "      <th>1</th>\n",
       "      <td>Albania</td>\n",
       "      <td>1. Managers</td>\n",
       "      <td>895.38</td>\n",
       "      <td>882.42</td>\n",
       "      <td>1.014687</td>\n",
       "    </tr>\n",
       "    <tr>\n",
       "      <th>2</th>\n",
       "      <td>Albania</td>\n",
       "      <td>2. Professionals</td>\n",
       "      <td>588.09</td>\n",
       "      <td>742.16</td>\n",
       "      <td>0.792403</td>\n",
       "    </tr>\n",
       "    <tr>\n",
       "      <th>3</th>\n",
       "      <td>Albania</td>\n",
       "      <td>3. Technicians and associate professionals</td>\n",
       "      <td>487.87</td>\n",
       "      <td>588.29</td>\n",
       "      <td>0.829302</td>\n",
       "    </tr>\n",
       "    <tr>\n",
       "      <th>4</th>\n",
       "      <td>Albania</td>\n",
       "      <td>4. Clerical support workers</td>\n",
       "      <td>498.06</td>\n",
       "      <td>525.30</td>\n",
       "      <td>0.948144</td>\n",
       "    </tr>\n",
       "  </tbody>\n",
       "</table>\n",
       "</div>"
      ],
      "text/plain": [
       "sex  country                                  occupation  Female    Male  \\\n",
       "0    Albania                 0. Armed forces occupations  555.45  572.86   \n",
       "1    Albania                                 1. Managers  895.38  882.42   \n",
       "2    Albania                            2. Professionals  588.09  742.16   \n",
       "3    Albania  3. Technicians and associate professionals  487.87  588.29   \n",
       "4    Albania                 4. Clerical support workers  498.06  525.30   \n",
       "\n",
       "sex  income_ratio  \n",
       "0        0.969609  \n",
       "1        1.014687  \n",
       "2        0.792403  \n",
       "3        0.829302  \n",
       "4        0.948144  "
      ]
     },
     "execution_count": 37,
     "metadata": {},
     "output_type": "execute_result"
    }
   ],
   "source": [
    "# ok let's focus on data in 2019 that don't have NaNs \n",
    "\n",
    "data19 = data_2019_pivot.dropna()\n",
    "data19.head()"
   ]
  },
  {
   "cell_type": "code",
   "execution_count": 38,
   "id": "9efcd5f8",
   "metadata": {},
   "outputs": [
    {
     "data": {
      "text/plain": [
       "(827, 5)"
      ]
     },
     "execution_count": 38,
     "metadata": {},
     "output_type": "execute_result"
    }
   ],
   "source": [
    "data19.shape"
   ]
  },
  {
   "cell_type": "code",
   "execution_count": 39,
   "id": "e7c028ed",
   "metadata": {},
   "outputs": [
    {
     "data": {
      "text/html": [
       "<div>\n",
       "<style scoped>\n",
       "    .dataframe tbody tr th:only-of-type {\n",
       "        vertical-align: middle;\n",
       "    }\n",
       "\n",
       "    .dataframe tbody tr th {\n",
       "        vertical-align: top;\n",
       "    }\n",
       "\n",
       "    .dataframe thead th {\n",
       "        text-align: right;\n",
       "    }\n",
       "</style>\n",
       "<table border=\"1\" class=\"dataframe\">\n",
       "  <thead>\n",
       "    <tr style=\"text-align: right;\">\n",
       "      <th>sex</th>\n",
       "      <th>country</th>\n",
       "      <th>occupation</th>\n",
       "      <th>income_ratio</th>\n",
       "    </tr>\n",
       "  </thead>\n",
       "  <tbody>\n",
       "    <tr>\n",
       "      <th>0</th>\n",
       "      <td>Albania</td>\n",
       "      <td>0. Armed forces occupations</td>\n",
       "      <td>0.969609</td>\n",
       "    </tr>\n",
       "    <tr>\n",
       "      <th>1</th>\n",
       "      <td>Albania</td>\n",
       "      <td>1. Managers</td>\n",
       "      <td>1.014687</td>\n",
       "    </tr>\n",
       "    <tr>\n",
       "      <th>2</th>\n",
       "      <td>Albania</td>\n",
       "      <td>2. Professionals</td>\n",
       "      <td>0.792403</td>\n",
       "    </tr>\n",
       "    <tr>\n",
       "      <th>3</th>\n",
       "      <td>Albania</td>\n",
       "      <td>3. Technicians and associate professionals</td>\n",
       "      <td>0.829302</td>\n",
       "    </tr>\n",
       "    <tr>\n",
       "      <th>4</th>\n",
       "      <td>Albania</td>\n",
       "      <td>4. Clerical support workers</td>\n",
       "      <td>0.948144</td>\n",
       "    </tr>\n",
       "  </tbody>\n",
       "</table>\n",
       "</div>"
      ],
      "text/plain": [
       "sex  country                                  occupation  income_ratio\n",
       "0    Albania                 0. Armed forces occupations      0.969609\n",
       "1    Albania                                 1. Managers      1.014687\n",
       "2    Albania                            2. Professionals      0.792403\n",
       "3    Albania  3. Technicians and associate professionals      0.829302\n",
       "4    Albania                 4. Clerical support workers      0.948144"
      ]
     },
     "execution_count": 39,
     "metadata": {},
     "output_type": "execute_result"
    }
   ],
   "source": [
    "# drop unnecessary columns \n",
    "data19 = data19.loc[:,['country','occupation','income_ratio']]\n",
    "data19.head()"
   ]
  },
  {
   "cell_type": "code",
   "execution_count": 40,
   "id": "eb491632",
   "metadata": {},
   "outputs": [
    {
     "data": {
      "text/plain": [
       "83"
      ]
     },
     "execution_count": 40,
     "metadata": {},
     "output_type": "execute_result"
    }
   ],
   "source": [
    "data19['country'].nunique()"
   ]
  },
  {
   "cell_type": "code",
   "execution_count": 41,
   "id": "a34f88d6",
   "metadata": {},
   "outputs": [],
   "source": [
    "# export so I don't have to remake this df again in the future \n",
    "data19.to_csv('ilo_usd_ratio_2019.csv')"
   ]
  },
  {
   "cell_type": "code",
   "execution_count": 51,
   "id": "91b15244",
   "metadata": {},
   "outputs": [
    {
     "data": {
      "text/html": [
       "<div>\n",
       "<style scoped>\n",
       "    .dataframe tbody tr th:only-of-type {\n",
       "        vertical-align: middle;\n",
       "    }\n",
       "\n",
       "    .dataframe tbody tr th {\n",
       "        vertical-align: top;\n",
       "    }\n",
       "\n",
       "    .dataframe thead th {\n",
       "        text-align: right;\n",
       "    }\n",
       "</style>\n",
       "<table border=\"1\" class=\"dataframe\">\n",
       "  <thead>\n",
       "    <tr style=\"text-align: right;\">\n",
       "      <th>sex</th>\n",
       "      <th>country</th>\n",
       "      <th>occupation</th>\n",
       "      <th>income_ratio</th>\n",
       "    </tr>\n",
       "  </thead>\n",
       "  <tbody>\n",
       "    <tr>\n",
       "      <th>0</th>\n",
       "      <td>Albania</td>\n",
       "      <td>0. Armed forces occupations</td>\n",
       "      <td>0.969609</td>\n",
       "    </tr>\n",
       "    <tr>\n",
       "      <th>1</th>\n",
       "      <td>Albania</td>\n",
       "      <td>1. Managers</td>\n",
       "      <td>1.014687</td>\n",
       "    </tr>\n",
       "    <tr>\n",
       "      <th>2</th>\n",
       "      <td>Albania</td>\n",
       "      <td>2. Professionals</td>\n",
       "      <td>0.792403</td>\n",
       "    </tr>\n",
       "    <tr>\n",
       "      <th>3</th>\n",
       "      <td>Albania</td>\n",
       "      <td>3. Technicians and associate professionals</td>\n",
       "      <td>0.829302</td>\n",
       "    </tr>\n",
       "    <tr>\n",
       "      <th>4</th>\n",
       "      <td>Albania</td>\n",
       "      <td>4. Clerical support workers</td>\n",
       "      <td>0.948144</td>\n",
       "    </tr>\n",
       "  </tbody>\n",
       "</table>\n",
       "</div>"
      ],
      "text/plain": [
       "sex  country                                  occupation  income_ratio\n",
       "0    Albania                 0. Armed forces occupations      0.969609\n",
       "1    Albania                                 1. Managers      1.014687\n",
       "2    Albania                            2. Professionals      0.792403\n",
       "3    Albania  3. Technicians and associate professionals      0.829302\n",
       "4    Albania                 4. Clerical support workers      0.948144"
      ]
     },
     "execution_count": 51,
     "metadata": {},
     "output_type": "execute_result"
    }
   ],
   "source": [
    "data19 = data19.replace('X. Not elsewhere classified', '10. Not elsewhere classified')\n",
    "data19.head()"
   ]
  },
  {
   "cell_type": "code",
   "execution_count": 52,
   "id": "b0c6cdcf",
   "metadata": {},
   "outputs": [
    {
     "data": {
      "text/plain": [
       "array(['0. Armed forces occupations', '1. Managers', '2. Professionals',\n",
       "       '3. Technicians and associate professionals',\n",
       "       '4. Clerical support workers', '5. Service and sales workers',\n",
       "       '6. Skilled agricultural, forestry and fishery workers',\n",
       "       '7. Craft and related trades workers',\n",
       "       '8. Plant and machine operators, and assemblers',\n",
       "       '9. Elementary occupations', 'Total',\n",
       "       '10. Not elsewhere classified'], dtype=object)"
      ]
     },
     "execution_count": 52,
     "metadata": {},
     "output_type": "execute_result"
    }
   ],
   "source": [
    "data19['occupation'].unique()"
   ]
  },
  {
   "cell_type": "code",
   "execution_count": 54,
   "id": "f2a669dc",
   "metadata": {},
   "outputs": [
    {
     "data": {
      "text/html": [
       "<div>\n",
       "<style scoped>\n",
       "    .dataframe tbody tr th:only-of-type {\n",
       "        vertical-align: middle;\n",
       "    }\n",
       "\n",
       "    .dataframe tbody tr th {\n",
       "        vertical-align: top;\n",
       "    }\n",
       "\n",
       "    .dataframe thead th {\n",
       "        text-align: right;\n",
       "    }\n",
       "</style>\n",
       "<table border=\"1\" class=\"dataframe\">\n",
       "  <thead>\n",
       "    <tr style=\"text-align: right;\">\n",
       "      <th>sex</th>\n",
       "      <th>country</th>\n",
       "      <th>occupation</th>\n",
       "      <th>income_ratio</th>\n",
       "    </tr>\n",
       "  </thead>\n",
       "  <tbody>\n",
       "    <tr>\n",
       "      <th>0</th>\n",
       "      <td>Albania</td>\n",
       "      <td>0. Armed forces occupations</td>\n",
       "      <td>0.969609</td>\n",
       "    </tr>\n",
       "    <tr>\n",
       "      <th>1</th>\n",
       "      <td>Albania</td>\n",
       "      <td>1. Managers</td>\n",
       "      <td>1.014687</td>\n",
       "    </tr>\n",
       "    <tr>\n",
       "      <th>2</th>\n",
       "      <td>Albania</td>\n",
       "      <td>2. Professionals</td>\n",
       "      <td>0.792403</td>\n",
       "    </tr>\n",
       "    <tr>\n",
       "      <th>3</th>\n",
       "      <td>Albania</td>\n",
       "      <td>3. Technicians and associate professionals</td>\n",
       "      <td>0.829302</td>\n",
       "    </tr>\n",
       "    <tr>\n",
       "      <th>4</th>\n",
       "      <td>Albania</td>\n",
       "      <td>4. Clerical support workers</td>\n",
       "      <td>0.948144</td>\n",
       "    </tr>\n",
       "    <tr>\n",
       "      <th>5</th>\n",
       "      <td>Albania</td>\n",
       "      <td>5. Service and sales workers</td>\n",
       "      <td>0.768311</td>\n",
       "    </tr>\n",
       "    <tr>\n",
       "      <th>6</th>\n",
       "      <td>Albania</td>\n",
       "      <td>6. Skilled agricultural, forestry and fishery ...</td>\n",
       "      <td>0.930302</td>\n",
       "    </tr>\n",
       "    <tr>\n",
       "      <th>7</th>\n",
       "      <td>Albania</td>\n",
       "      <td>7. Craft and related trades workers</td>\n",
       "      <td>0.758365</td>\n",
       "    </tr>\n",
       "    <tr>\n",
       "      <th>8</th>\n",
       "      <td>Albania</td>\n",
       "      <td>8. Plant and machine operators, and assemblers</td>\n",
       "      <td>0.758222</td>\n",
       "    </tr>\n",
       "    <tr>\n",
       "      <th>9</th>\n",
       "      <td>Albania</td>\n",
       "      <td>9. Elementary occupations</td>\n",
       "      <td>0.924843</td>\n",
       "    </tr>\n",
       "    <tr>\n",
       "      <th>10</th>\n",
       "      <td>Albania</td>\n",
       "      <td>Total</td>\n",
       "      <td>0.899366</td>\n",
       "    </tr>\n",
       "    <tr>\n",
       "      <th>12</th>\n",
       "      <td>Argentina</td>\n",
       "      <td>1. Managers</td>\n",
       "      <td>0.842302</td>\n",
       "    </tr>\n",
       "    <tr>\n",
       "      <th>22</th>\n",
       "      <td>Argentina</td>\n",
       "      <td>10. Not elsewhere classified</td>\n",
       "      <td>0.941286</td>\n",
       "    </tr>\n",
       "    <tr>\n",
       "      <th>13</th>\n",
       "      <td>Argentina</td>\n",
       "      <td>2. Professionals</td>\n",
       "      <td>0.742756</td>\n",
       "    </tr>\n",
       "    <tr>\n",
       "      <th>14</th>\n",
       "      <td>Argentina</td>\n",
       "      <td>3. Technicians and associate professionals</td>\n",
       "      <td>0.827244</td>\n",
       "    </tr>\n",
       "    <tr>\n",
       "      <th>15</th>\n",
       "      <td>Argentina</td>\n",
       "      <td>4. Clerical support workers</td>\n",
       "      <td>0.864363</td>\n",
       "    </tr>\n",
       "    <tr>\n",
       "      <th>16</th>\n",
       "      <td>Argentina</td>\n",
       "      <td>5. Service and sales workers</td>\n",
       "      <td>0.641504</td>\n",
       "    </tr>\n",
       "    <tr>\n",
       "      <th>17</th>\n",
       "      <td>Argentina</td>\n",
       "      <td>6. Skilled agricultural, forestry and fishery ...</td>\n",
       "      <td>1.074306</td>\n",
       "    </tr>\n",
       "    <tr>\n",
       "      <th>18</th>\n",
       "      <td>Argentina</td>\n",
       "      <td>7. Craft and related trades workers</td>\n",
       "      <td>0.887167</td>\n",
       "    </tr>\n",
       "    <tr>\n",
       "      <th>19</th>\n",
       "      <td>Argentina</td>\n",
       "      <td>8. Plant and machine operators, and assemblers</td>\n",
       "      <td>0.566183</td>\n",
       "    </tr>\n",
       "  </tbody>\n",
       "</table>\n",
       "</div>"
      ],
      "text/plain": [
       "sex    country                                         occupation  \\\n",
       "0      Albania                        0. Armed forces occupations   \n",
       "1      Albania                                        1. Managers   \n",
       "2      Albania                                   2. Professionals   \n",
       "3      Albania         3. Technicians and associate professionals   \n",
       "4      Albania                        4. Clerical support workers   \n",
       "5      Albania                       5. Service and sales workers   \n",
       "6      Albania  6. Skilled agricultural, forestry and fishery ...   \n",
       "7      Albania                7. Craft and related trades workers   \n",
       "8      Albania     8. Plant and machine operators, and assemblers   \n",
       "9      Albania                          9. Elementary occupations   \n",
       "10     Albania                                              Total   \n",
       "12   Argentina                                        1. Managers   \n",
       "22   Argentina                       10. Not elsewhere classified   \n",
       "13   Argentina                                   2. Professionals   \n",
       "14   Argentina         3. Technicians and associate professionals   \n",
       "15   Argentina                        4. Clerical support workers   \n",
       "16   Argentina                       5. Service and sales workers   \n",
       "17   Argentina  6. Skilled agricultural, forestry and fishery ...   \n",
       "18   Argentina                7. Craft and related trades workers   \n",
       "19   Argentina     8. Plant and machine operators, and assemblers   \n",
       "\n",
       "sex  income_ratio  \n",
       "0        0.969609  \n",
       "1        1.014687  \n",
       "2        0.792403  \n",
       "3        0.829302  \n",
       "4        0.948144  \n",
       "5        0.768311  \n",
       "6        0.930302  \n",
       "7        0.758365  \n",
       "8        0.758222  \n",
       "9        0.924843  \n",
       "10       0.899366  \n",
       "12       0.842302  \n",
       "22       0.941286  \n",
       "13       0.742756  \n",
       "14       0.827244  \n",
       "15       0.864363  \n",
       "16       0.641504  \n",
       "17       1.074306  \n",
       "18       0.887167  \n",
       "19       0.566183  "
      ]
     },
     "execution_count": 54,
     "metadata": {},
     "output_type": "execute_result"
    }
   ],
   "source": [
    "data19 = data19.sort_values(['country', 'occupation'])\n",
    "data19.head(20)"
   ]
  },
  {
   "cell_type": "code",
   "execution_count": null,
   "id": "ae70dce6",
   "metadata": {},
   "outputs": [],
   "source": [
    "aliases = {'0. Armed forces occupations':'0 Armed forces', \n",
    "           '1. Managers':'1. Managerial', \n",
    "           '3. Technicians and associate professionals':'3. Technicians and associates', \n",
    "           '4. Clerical support workers':'4. Clerical support', \n",
    "           ''}"
   ]
  },
  {
   "cell_type": "code",
   "execution_count": 53,
   "id": "70e1c5d0",
   "metadata": {},
   "outputs": [
    {
     "data": {
      "text/plain": [
       "<seaborn.axisgrid.FacetGrid at 0x1ac1424ef10>"
      ]
     },
     "execution_count": 53,
     "metadata": {},
     "output_type": "execute_result"
    },
    {
     "data": {
      "image/png": "[encoded data removed]",
      "text/plain": [
       "<Figure size 864x648 with 12 Axes>"
      ]
     },
     "metadata": {
      "needs_background": "light"
     },
     "output_type": "display_data"
    }
   ],
   "source": [
    "g = sns.FacetGrid(data=data19, col='occupation', col_wrap=4, margin_titles=True)\n",
    "g.map(sns.histplot, 'income_ratio')\n",
    "g.refline(x=1, color='gray', ls=':')\n",
    "g.set_titles(col_template=\"{col_name}\")"
   ]
  },
  {
   "cell_type": "code",
   "execution_count": null,
   "id": "81a223bf",
   "metadata": {},
   "outputs": [],
   "source": []
  }
 ],
 "metadata": {
  "kernelspec": {
   "display_name": "Python 3 (ipykernel)",
   "language": "python",
   "name": "python3"
  },
  "language_info": {
   "codemirror_mode": {
    "name": "ipython",
    "version": 3
   },
   "file_extension": ".py",
   "mimetype": "text/x-python",
   "name": "python",
   "nbconvert_exporter": "python",
   "pygments_lexer": "ipython3",
   "version": "3.9.12"
  }
 },
 "nbformat": 4,
 "nbformat_minor": 5
}
